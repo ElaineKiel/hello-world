{
 "cells": [
  {
   "cell_type": "markdown",
   "metadata": {},
   "source": [
    "# <font color = 'pink' size = 6 > Data Science Academy - Capítulo 03 - Resolução Exercícios </font>"
   ]
  },
  {
   "cell_type": "markdown",
   "metadata": {},
   "source": [
    "## Exercícios - Loops e Condicionais"
   ]
  },
  {
   "cell_type": "code",
   "execution_count": 1,
   "metadata": {},
   "outputs": [
    {
     "name": "stdout",
     "output_type": "stream",
     "text": [
      "Que dia é hoje? Sabado\n",
      "Hoje é dia de descansar.\n"
     ]
    }
   ],
   "source": [
    "# Exercício 1\n",
    "dia_semana = input('Que dia é hoje? ')\n",
    "\n",
    "if dia_semana == 'Sabado' or dia_semana == 'Domingo':\n",
    "    print('Hoje é dia de descansar.')\n",
    "else:\n",
    "    print('Você precisa trabalhar!')"
   ]
  },
  {
   "cell_type": "code",
   "execution_count": 2,
   "metadata": {},
   "outputs": [
    {
     "name": "stdout",
     "output_type": "stream",
     "text": [
      "Que dia é hoje? Sabado\n",
      "Hoje é Sabado, dia de descansar\n"
     ]
    }
   ],
   "source": [
    "# Exercício 1 com placeholder.\n",
    "dia_semana = input ('Que dia é hoje? ')\n",
    "\n",
    "if dia_semana =='Sabado' or dia_semana =='Domingo':\n",
    "    print('Hoje é %s, dia de descansar' %(dia_semana))\n",
    "else:\n",
    "    print('Hoje é %s, você precisa trabalhar.' %(dia_semana))"
   ]
  },
  {
   "cell_type": "code",
   "execution_count": 3,
   "metadata": {},
   "outputs": [
    {
     "name": "stdout",
     "output_type": "stream",
     "text": [
      "temos morango na lista!\n"
     ]
    }
   ],
   "source": [
    "# Exercício 2\n",
    "i = 'morango'\n",
    "lista = ['maça', 'mamao', 'uva', 'morango', 'pera']\n",
    "if i in lista:\n",
    "    print('temos %s na lista!' % (i))\n",
    "else:\n",
    "    print ('não temos %s na lista!' %(i))"
   ]
  },
  {
   "cell_type": "code",
   "execution_count": 4,
   "metadata": {},
   "outputs": [
    {
     "name": "stdout",
     "output_type": "stream",
     "text": [
      "[60]\n",
      "[112]\n",
      "[40]\n",
      "[24]\n"
     ]
    }
   ],
   "source": [
    "# Exercício 3\n",
    "tp1 = (30,56,20,12)\n",
    "lt1 = list(tp1)\n",
    "for item in lt1:\n",
    "    lt2 = [item * 2]\n",
    "    #lt2 = [i]\n",
    "    print(lt2)\n"
   ]
  },
  {
   "cell_type": "code",
   "execution_count": 5,
   "metadata": {},
   "outputs": [
    {
     "name": "stdout",
     "output_type": "stream",
     "text": [
      "[60, 112, 40, 24]\n"
     ]
    }
   ],
   "source": [
    "# Exercício 3\n",
    "tp1 = (30,56,20,12)\n",
    "lt1 = list(tp1)\n",
    "a = lt1[0]*2\n",
    "b = lt1[1]*2\n",
    "c = lt1[2]*2\n",
    "d = lt1[3]*2\n",
    "lt2 = [a,b,c,d]\n",
    "print(lt2)"
   ]
  },
  {
   "cell_type": "code",
   "execution_count": 58,
   "metadata": {},
   "outputs": [
    {
     "name": "stdout",
     "output_type": "stream",
     "text": [
      "[2, 4, 6, 8]\n"
     ]
    }
   ],
   "source": [
    "# Exercício 3 - solução dada pelo professor\n",
    "tup1 = (1,2,3,4)\n",
    "lst1 = []\n",
    "for i in tup1:\n",
    "    novo_valor = i * 2\n",
    "    lst1.append(novo_valor)\n",
    "print(lst1)"
   ]
  },
  {
   "cell_type": "code",
   "execution_count": 6,
   "metadata": {},
   "outputs": [
    {
     "name": "stdout",
     "output_type": "stream",
     "text": [
      "100\n",
      "102\n",
      "104\n",
      "106\n",
      "108\n",
      "110\n",
      "112\n",
      "114\n",
      "116\n",
      "118\n",
      "120\n",
      "122\n",
      "124\n",
      "126\n",
      "128\n",
      "130\n",
      "132\n",
      "134\n",
      "136\n",
      "138\n",
      "140\n",
      "142\n",
      "144\n",
      "146\n",
      "148\n",
      "150\n"
     ]
    }
   ],
   "source": [
    "# Exercício 4\n",
    "for i in range(100,151,2):\n",
    "    print(i)"
   ]
  },
  {
   "cell_type": "code",
   "execution_count": 8,
   "metadata": {},
   "outputs": [
    {
     "name": "stdout",
     "output_type": "stream",
     "text": [
      "40\n",
      "39\n",
      "38\n",
      "37\n",
      "36\n",
      "fim\n"
     ]
    }
   ],
   "source": [
    "# Exercício 5\n",
    "temperatura = 40\n",
    "while temperatura > 35:\n",
    "    print(temperatura)\n",
    "    temperatura -=1\n",
    "else:\n",
    "    print('fim')"
   ]
  },
  {
   "cell_type": "code",
   "execution_count": 11,
   "metadata": {},
   "outputs": [
    {
     "name": "stdout",
     "output_type": "stream",
     "text": [
      "0\n",
      "1\n",
      "2\n",
      "3\n",
      "4\n",
      "5\n",
      "6\n",
      "7\n",
      "8\n",
      "9\n",
      "10\n",
      "11\n",
      "12\n",
      "13\n",
      "14\n",
      "15\n",
      "16\n",
      "17\n",
      "18\n",
      "19\n",
      "20\n",
      "21\n",
      "22\n"
     ]
    }
   ],
   "source": [
    "# Exercício 6\n",
    "contador = 0\n",
    "while contador < 100:\n",
    "    if contador == 23:\n",
    "        break\n",
    "    else:\n",
    "        pass\n",
    "    print(contador)\n",
    "    contador = contador +1\n",
    "    "
   ]
  },
  {
   "cell_type": "code",
   "execution_count": 38,
   "metadata": {},
   "outputs": [
    {
     "name": "stdout",
     "output_type": "stream",
     "text": [
      "[4, 6, 8, 10, 12, 14, 16, 18, 20]\n"
     ]
    }
   ],
   "source": [
    "# Exercício 7\n",
    "lista = list()\n",
    "a = 4\n",
    "while (a <= 20):\n",
    "        lista.append(a)\n",
    "        a = a+2\n",
    "print(lista)"
   ]
  },
  {
   "cell_type": "code",
   "execution_count": 42,
   "metadata": {},
   "outputs": [
    {
     "name": "stdout",
     "output_type": "stream",
     "text": [
      "[4, 6, 8, 10, 12, 14, 16, 18, 20, 22, 24, 26, 28, 30, 32, 34, 36, 38, 40, 42, 44]\n"
     ]
    }
   ],
   "source": [
    "# Exercício 8\n",
    "lista = list()\n",
    "for nums in range (4,45,2):\n",
    "    lista.append(nums)\n",
    "print (lista)\n",
    "   \n"
   ]
  },
  {
   "cell_type": "code",
   "execution_count": 43,
   "metadata": {},
   "outputs": [
    {
     "name": "stdout",
     "output_type": "stream",
     "text": [
      "Qual a temperatura?32.0\n",
      "Vista roupas leves!\n"
     ]
    }
   ],
   "source": [
    "# Exercício 9\n",
    "temperatura = float(input('Qual a temperatura?'))\n",
    "if temperatura >30.0:\n",
    "    print('Vista roupas leves!')\n",
    "else:\n",
    "    print ('Busque seus casacos!')"
   ]
  },
  {
   "cell_type": "code",
   "execution_count": 56,
   "metadata": {},
   "outputs": [
    {
     "data": {
      "text/plain": [
       "6"
      ]
     },
     "execution_count": 56,
     "metadata": {},
     "output_type": "execute_result"
    }
   ],
   "source": [
    "# Exercício 10 - faltou a parte do placeholder\n",
    "lista = list()\n",
    "Frase = 'É melhor, muito melhor, contentar-se com a realidade; se ela não é tão brilhante como os sonhos, tem pelo menos a vantagem de existir.'\n",
    "for i in Frase:\n",
    "    if i == 'r':\n",
    "       lista.append(i)\n",
    "len(lista)"
   ]
  },
  {
   "cell_type": "code",
   "execution_count": 59,
   "metadata": {},
   "outputs": [
    {
     "name": "stdout",
     "output_type": "stream",
     "text": [
      "O caracter r aparece 6 vezes na frase.\n"
     ]
    }
   ],
   "source": [
    "# Exercício 10 - Resolução do professor\n",
    "Frase = 'É melhor, muito melhor, contentar-se com a realidade; se ela não é tão brilhante como os sonhos, tem pelo menos a vantagem de existir.'\n",
    "count = 0\n",
    "for caracter in Frase:\n",
    "    if caracter == 'r':\n",
    "        count +=1\n",
    "print('O caracter r aparece %s vezes na frase.' %(count))"
   ]
  },
  {
   "cell_type": "code",
   "execution_count": null,
   "metadata": {},
   "outputs": [],
   "source": []
  }
 ],
 "metadata": {
  "kernelspec": {
   "display_name": "Python 3",
   "language": "python",
   "name": "python3"
  },
  "language_info": {
   "codemirror_mode": {
    "name": "ipython",
    "version": 3
   },
   "file_extension": ".py",
   "mimetype": "text/x-python",
   "name": "python",
   "nbconvert_exporter": "python",
   "pygments_lexer": "ipython3",
   "version": "3.6.5"
  }
 },
 "nbformat": 4,
 "nbformat_minor": 2
}
